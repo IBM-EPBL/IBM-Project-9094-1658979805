{
  "cells": [
    {
      "cell_type": "code",
      "execution_count": 1,
      "metadata": {
        "colab": {
          "base_uri": "https://localhost:8080/"
        },
        "id": "ODqkuMVf1b8y",
        "outputId": "fcf29acd-7695-4bd1-abb2-332f30a90f96"
      },
      "outputs": [
        {
          "output_type": "stream",
          "name": "stdout",
          "text": [
            "Mounted at /content/drive\n"
          ]
        }
      ],
      "source": [
        " from google.colab import drive\n",
        "drive.mount('/content/drive')"
      ]
    },
    {
      "cell_type": "code",
      "execution_count": 2,
      "metadata": {
        "id": "QG084co81jDY"
      },
      "outputs": [],
      "source": [
        "# Import Libraries\n",
        "import os\n",
        "import glob\n",
        "import matplotlib.pyplot as plt\n",
        "import numpy as np\n",
        "# Keras API\n",
        "import keras\n",
        "from keras.models import Sequential\n",
        "from keras.layers import Dense,Dropout,Flatten\n",
        "from keras.layers import Conv2D,MaxPooling2D,Activation,AveragePooling2D,BatchNormalization\n",
        "from keras.preprocessing.image import ImageDataGenerator"
      ]
    },
    {
      "cell_type": "code",
      "execution_count": 3,
      "metadata": {
        "id": "8fMR-Nfq1tjQ"
      },
      "outputs": [],
      "source": [
        "# My data is in google drive.\n",
        "train_dir =\"/content/drive/MyDrive/Project/Dataset Plant Disease/Veg-dataset/Veg-dataset/train_set/\"\n",
        "test_dir=\"/content/drive/MyDrive/Project/Dataset Plant Disease/Veg-dataset/Veg-dataset/test_set\""
      ]
    },
    {
      "cell_type": "code",
      "execution_count": 4,
      "metadata": {
        "id": "sxJ0lyp018_A"
      },
      "outputs": [],
      "source": [
        "# function to get count of images\n",
        "def get_files(directory):\n",
        "  if not os.path.exists(directory):\n",
        "    return 0\n",
        "  count=0\n",
        "  for current_path,dirs,files in os.walk(directory):\n",
        "    for dr in dirs:\n",
        "      count+= len(glob.glob(os.path.join(current_path,dr+\"/*\")))\n",
        "  return count"
      ]
    },
    {
      "cell_type": "code",
      "execution_count": 5,
      "metadata": {
        "colab": {
          "base_uri": "https://localhost:8080/"
        },
        "id": "BZ6BTA4g1_Ys",
        "outputId": "7f4b6b6e-51ba-4b69-a5fa-c2503edcec5f"
      },
      "outputs": [
        {
          "output_type": "stream",
          "name": "stdout",
          "text": [
            "9 Classes\n",
            "11332 Train images\n",
            "3416 Test images\n"
          ]
        }
      ],
      "source": [
        "train_samples =get_files(train_dir)\n",
        "num_classes=len(glob.glob(train_dir+\"/*\"))\n",
        "test_samples=get_files(test_dir)\n",
        "print(num_classes,\"Classes\")\n",
        "print(train_samples,\"Train images\")\n",
        "print(test_samples,\"Test images\")"
      ]
    },
    {
      "cell_type": "code",
      "source": [
        "# Pre-processing data with parameters.\n",
        "train_datagen=ImageDataGenerator(rescale=1./255,\n",
        "                                   shear_range=0.2,\n",
        "                                   zoom_range=0.2,\n",
        "                                   horizontal_flip=True)\n",
        "test_datagen=ImageDataGenerator(rescale=1./255)"
      ],
      "metadata": {
        "id": "SDs099V1y2Tr"
      },
      "execution_count": 6,
      "outputs": []
    },
    {
      "cell_type": "code",
      "source": [
        "# set height and width and color of input image.\n",
        "img_width,img_height =256,256\n",
        "input_shape=(img_width,img_height,3)\n",
        "batch_size =32\n",
        "train_generator =train_datagen.flow_from_directory(train_dir,\n",
        "                                target_size=(img_width,img_height),batch_size=batch_size)\n",
        "test_generator=test_datagen.flow_from_directory(test_dir,shuffle=True,target_size=(img_width,img_height),batch_size=batch_size)"
      ],
      "metadata": {
        "colab": {
          "base_uri": "https://localhost:8080/"
        },
        "id": "MdiJ3uLWy-ar",
        "outputId": "9b08e908-2c6f-4a0e-e84b-c908c2c1f3e9"
      },
      "execution_count": 7,
      "outputs": [
        {
          "output_type": "stream",
          "name": "stdout",
          "text": [
            "Found 11332 images belonging to 9 classes.\n",
            "Found 3416 images belonging to 9 classes.\n"
          ]
        }
      ]
    },
    {
      "cell_type": "code",
      "execution_count": 8,
      "metadata": {
        "id": "dB4j49bZ2CBF",
        "colab": {
          "base_uri": "https://localhost:8080/"
        },
        "outputId": "17f1421b-f594-4b2c-fe7f-54f4c6ffbcac"
      },
      "outputs": [
        {
          "output_type": "execute_result",
          "data": {
            "text/plain": [
              "{'Pepper,_bell___Bacterial_spot': 0,\n",
              " 'Pepper,_bell___healthy': 1,\n",
              " 'Potato___Early_blight': 2,\n",
              " 'Potato___Late_blight': 3,\n",
              " 'Potato___healthy': 4,\n",
              " 'Tomato___Bacterial_spot': 5,\n",
              " 'Tomato___Late_blight': 6,\n",
              " 'Tomato___Leaf_Mold': 7,\n",
              " 'Tomato___Septoria_leaf_spot': 8}"
            ]
          },
          "metadata": {},
          "execution_count": 8
        }
      ],
      "source": [
        "# The name of the 12 diseases.\n",
        "train_generator.class_indices"
      ]
    }
  ],
  "metadata": {
    "colab": {
      "provenance": []
    },
    "kernelspec": {
      "display_name": "Python 3",
      "name": "python3"
    },
    "language_info": {
      "name": "python"
    }
  },
  "nbformat": 4,
  "nbformat_minor": 0
}