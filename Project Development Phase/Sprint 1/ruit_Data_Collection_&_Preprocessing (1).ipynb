{
  "cells": [
    {
      "cell_type": "code",
      "execution_count": null,
      "metadata": {
        "colab": {
          "base_uri": "https://localhost:8080/"
        },
        "id": "fZrQyjiq-5J-",
        "outputId": "866b316c-d052-441d-a5c8-5287371a10bd"
      },
      "outputs": [
        {
          "output_type": "stream",
          "name": "stdout",
          "text": [
            "Mounted at /content/drive\n"
          ]
        }
      ],
      "source": [
        " from google.colab import drive\n",
        "drive.mount('/content/drive')"
      ]
    },
    {
      "cell_type": "code",
      "execution_count": null,
      "metadata": {
        "id": "fdMsujqI_NdI"
      },
      "outputs": [],
      "source": [
        "# Import Libraries\n",
        "import os\n",
        "import glob\n",
        "import matplotlib.pyplot as plt\n",
        "import numpy as np\n",
        "# Keras API\n",
        "import keras\n",
        "from keras.models import Sequential\n",
        "from keras.layers import Dense,Dropout,Flatten\n",
        "from keras.layers import Conv2D,MaxPooling2D,Activation,AveragePooling2D,BatchNormalization\n",
        "from keras.preprocessing.image import ImageDataGenerator"
      ]
    },
    {
      "cell_type": "code",
      "execution_count": null,
      "metadata": {
        "id": "x6k0Mz38_P9H"
      },
      "outputs": [],
      "source": [
        "# My data is in google drive.\n",
        "f_train_dir =\"/content/drive/MyDrive/Project/Dataset Plant Disease/fruit-dataset/fruit-dataset/train\"\n",
        "f_test_dir=\"/content/drive/MyDrive/Project/Dataset Plant Disease/fruit-dataset/fruit-dataset/test\""
      ]
    },
    {
      "cell_type": "code",
      "execution_count": null,
      "metadata": {
        "id": "BlropY6u_pZF"
      },
      "outputs": [],
      "source": [
        "# function to get count of images\n",
        "def get_files(directory):\n",
        "  if not os.path.exists(directory):\n",
        "    return 0\n",
        "  count=0\n",
        "  for current_path,dirs,files in os.walk(directory):\n",
        "    for dr in dirs:\n",
        "      count+= len(glob.glob(os.path.join(current_path,dr+\"/*\")))\n",
        "  return count"
      ]
    },
    {
      "cell_type": "code",
      "execution_count": null,
      "metadata": {
        "colab": {
          "base_uri": "https://localhost:8080/"
        },
        "id": "K9SVutqT_rhN",
        "outputId": "c5a27529-1ff3-4c2b-a055-60e587abeec5"
      },
      "outputs": [
        {
          "output_type": "stream",
          "name": "stdout",
          "text": [
            "6 Classes\n",
            "5334 Train images\n",
            "1679 Test images\n"
          ]
        }
      ],
      "source": [
        "f_train_samples =get_files(f_train_dir)\n",
        "f_num_classes=len(glob.glob(f_train_dir+\"/*\"))\n",
        "f_test_samples=get_files(f_test_dir)\n",
        "print(f_num_classes,\"Classes\")\n",
        "print(f_train_samples,\"Train images\")\n",
        "print(f_test_samples,\"Test images\")"
      ]
    },
    {
      "cell_type": "code",
      "execution_count": null,
      "metadata": {
        "id": "yFjfLE_Y_ujX"
      },
      "outputs": [],
      "source": [
        "# Pre-processing data with parameters.\n",
        "f_train_datagen=ImageDataGenerator(rescale=1./255,shear_range=0.2,zoom_range=0.2,horizontal_flip=True)\n",
        "f_test_datagen=ImageDataGenerator(rescale=1./255)"
      ]
    },
    {
      "cell_type": "code",
      "execution_count": null,
      "metadata": {
        "colab": {
          "base_uri": "https://localhost:8080/"
        },
        "id": "018zFCEJ_1c0",
        "outputId": "572890ed-e341-488e-94b0-001c9b6bcafa"
      },
      "outputs": [
        {
          "output_type": "stream",
          "name": "stdout",
          "text": [
            "Found 5334 images belonging to 6 classes.\n",
            "Found 1679 images belonging to 6 classes.\n"
          ]
        }
      ],
      "source": [
        "# set height and width and color of input image.\n",
        "img_width,img_height =256,256\n",
        "input_shape=(img_width,img_height,3)\n",
        "batch_size =32\n",
        "f_train_generator=f_train_datagen.flow_from_directory(f_train_dir,target_size=(img_width,img_height),batch_size=batch_size)\n",
        "f_test_generator=f_test_datagen.flow_from_directory(f_test_dir,shuffle=True,target_size=(img_width,img_height),batch_size=batch_size)"
      ]
    },
    {
      "cell_type": "code",
      "execution_count": null,
      "metadata": {
        "colab": {
          "base_uri": "https://localhost:8080/"
        },
        "id": "SL7A6lbK_35F",
        "outputId": "b13762b7-a12b-4cdb-b559-0dc9bbb813a9"
      },
      "outputs": [
        {
          "output_type": "execute_result",
          "data": {
            "text/plain": [
              "{'Apple___Black_rot': 0,\n",
              " 'Apple___healthy': 1,\n",
              " 'Corn_(maize)___Northern_Leaf_Blight': 2,\n",
              " 'Corn_(maize)___healthy': 3,\n",
              " 'Peach___Bacterial_spot': 4,\n",
              " 'Peach___healthy': 5}"
            ]
          },
          "metadata": {},
          "execution_count": 8
        }
      ],
      "source": [
        "f_train_generator.class_indices"
      ]
    }
  ],
  "metadata": {
    "colab": {
      "provenance": []
    },
    "kernelspec": {
      "display_name": "Python 3",
      "name": "python3"
    },
    "language_info": {
      "name": "python"
    }
  },
  "nbformat": 4,
  "nbformat_minor": 0
}