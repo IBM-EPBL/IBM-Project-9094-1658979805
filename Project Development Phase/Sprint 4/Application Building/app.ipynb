{
 "cells": [
  {
   "cell_type": "code",
   "execution_count": 1,
   "id": "34dfd149",
   "metadata": {},
   "outputs": [],
   "source": [
    "import requests\n",
    "from tensorflow.keras.preprocessing import image\n",
    "from tensorflow.keras.models import load_model\n",
    "import numpy as np\n",
    "import pandas as pd\n",
    "import tensorflow as tf\n",
    "from flask import Flask, request, render_template, redirect, url_for\n",
    "import os\n",
    "from werkzeug.utils import secure_filename\n",
    "from tensorflow.python.keras.backend import set_session"
   ]
  },
  {
   "cell_type": "code",
   "execution_count": 2,
   "id": "11835c66",
   "metadata": {},
   "outputs": [],
   "source": [
    "app=Flask(__name__)\n",
    "model = load_model(\"vegetable.h5\")\n",
    "model1 = load_model(\"fruit.h5\")"
   ]
  },
  {
   "cell_type": "code",
   "execution_count": 3,
   "id": "ff7c7130",
   "metadata": {},
   "outputs": [],
   "source": [
    "@app.route('/')\n",
    "#home page\n",
    "def home():\n",
    "    return render_template('index.html')\n",
    "\n",
    "#prediction page\n",
    "@app.route('/prediction.html')\n",
    "def prediction():\n",
    "    return render_template('prediction.html')"
   ]
  },
  {
   "cell_type": "code",
   "execution_count": 4,
   "id": "222d677d",
   "metadata": {},
   "outputs": [],
   "source": [
    "@app.route('/predict',methods=['GET','POST'])\n",
    "def predict():\n",
    "    if request.method == 'POST':\n",
    "        #getting file from post request\n",
    "        f=request.files['image']\n",
    "        #save the files to uploads\n",
    "        basepath = os.path.dirname(os.getcwd())\n",
    "        file_path = os.path.join(basepath, '\\\\Users\\\\Inspiron15 3000\\\\Desktop\\\\Application Building\\\\uploads', secure_filename(f.filename))\n",
    "        f.save(file_path)\n",
    "        img = image.load_img(file_path, target_size=(256,256))\n",
    "        x=image.img_to_array(img)\n",
    "        x=np.expand_dims(x,axis=0)\n",
    "        plant=request.form['plants']\n",
    "        print(plant)\n",
    "        p = \"\"\n",
    "        disease = \"\"\n",
    "        caution = \"\"\n",
    "        if(plant==\"Vegetable\"):\n",
    "            y = np.argmax(model.predict(x),axis=1)     \n",
    "            df=pd.read_excel('precautions - veg.xlsx')\n",
    "            caution = df.iloc[y[0]]['caution']\n",
    "            p = df.iloc[y[0]]['plant']\n",
    "            disease = df.iloc[y[0]]['disease']\n",
    "        else:\n",
    "            y = np.argmax(model1.predict(x),axis=1) \n",
    "            df=pd.read_excel('precautions - fruits.xlsx')\n",
    "            caution = df.iloc[y[0]]['caution']\n",
    "            p = df.iloc[y[0]]['plant']\n",
    "            disease = df.iloc[y[0]]['disease']\n",
    "            \n",
    "        return render_template('predict.html', plant=p , disease = disease , caution = caution)"
   ]
  },
  {
   "cell_type": "code",
   "execution_count": null,
   "id": "a5f6b234",
   "metadata": {},
   "outputs": [
    {
     "name": "stdout",
     "output_type": "stream",
     "text": [
      " * Serving Flask app '__main__'\n",
      " * Debug mode: off\n"
     ]
    },
    {
     "name": "stderr",
     "output_type": "stream",
     "text": [
      "WARNING: This is a development server. Do not use it in a production deployment. Use a production WSGI server instead.\n",
      " * Running on http://127.0.0.1:5000\n",
      "Press CTRL+C to quit\n",
      "127.0.0.1 - - [17/Nov/2022 16:53:59] \"GET / HTTP/1.1\" 200 -\n",
      "127.0.0.1 - - [17/Nov/2022 16:53:59] \"GET /static/css/style.css HTTP/1.1\" 304 -\n",
      "127.0.0.1 - - [17/Nov/2022 16:54:00] \"GET /static/images/homeImage.jpg HTTP/1.1\" 304 -\n",
      "127.0.0.1 - - [17/Nov/2022 16:54:03] \"GET /prediction.html HTTP/1.1\" 200 -\n",
      "127.0.0.1 - - [17/Nov/2022 16:54:03] \"GET /static/images/sectionImage.png HTTP/1.1\" 304 -\n"
     ]
    },
    {
     "name": "stdout",
     "output_type": "stream",
     "text": [
      "fruit\n",
      "WARNING:tensorflow:AutoGraph could not transform <function Model.make_predict_function.<locals>.predict_function at 0x000001C185B79F78> and will run it as-is.\n",
      "Please report this to the TensorFlow team. When filing the bug, set the verbosity to 10 (on Linux, `export AUTOGRAPH_VERBOSITY=10`) and attach the full output.\n",
      "Cause: 'arguments' object has no attribute 'posonlyargs'\n",
      "To silence this warning, decorate the function with @tf.autograph.experimental.do_not_convert\n",
      "WARNING: AutoGraph could not transform <function Model.make_predict_function.<locals>.predict_function at 0x000001C185B79F78> and will run it as-is.\n",
      "Please report this to the TensorFlow team. When filing the bug, set the verbosity to 10 (on Linux, `export AUTOGRAPH_VERBOSITY=10`) and attach the full output.\n",
      "Cause: 'arguments' object has no attribute 'posonlyargs'\n",
      "To silence this warning, decorate the function with @tf.autograph.experimental.do_not_convert\n",
      "1/1 [==============================] - 0s 141ms/step\n"
     ]
    },
    {
     "name": "stderr",
     "output_type": "stream",
     "text": [
      "127.0.0.1 - - [17/Nov/2022 16:55:06] \"POST /predict HTTP/1.1\" 200 -\n",
      "127.0.0.1 - - [17/Nov/2022 16:55:06] \"GET /static/images/fertilizer.jpg HTTP/1.1\" 304 -\n",
      "127.0.0.1 - - [17/Nov/2022 16:56:28] \"GET /prediction.html HTTP/1.1\" 200 -\n",
      "127.0.0.1 - - [17/Nov/2022 16:56:28] \"GET /static/images/sectionImage.png HTTP/1.1\" 304 -\n"
     ]
    },
    {
     "name": "stdout",
     "output_type": "stream",
     "text": [
      "fruit\n",
      "1/1 [==============================] - 0s 33ms/step\n"
     ]
    },
    {
     "name": "stderr",
     "output_type": "stream",
     "text": [
      "127.0.0.1 - - [17/Nov/2022 16:56:43] \"POST /predict HTTP/1.1\" 200 -\n",
      "127.0.0.1 - - [17/Nov/2022 16:56:43] \"GET /static/images/fertilizer.jpg HTTP/1.1\" 304 -\n",
      "127.0.0.1 - - [17/Nov/2022 17:08:01] \"GET /prediction.html HTTP/1.1\" 200 -\n",
      "127.0.0.1 - - [17/Nov/2022 17:08:01] \"GET /static/images/sectionImage.png HTTP/1.1\" 304 -\n"
     ]
    },
    {
     "name": "stdout",
     "output_type": "stream",
     "text": [
      "Vegetable\n",
      "WARNING:tensorflow:AutoGraph could not transform <function Model.make_predict_function.<locals>.predict_function at 0x000001C185E5ACA8> and will run it as-is.\n",
      "Please report this to the TensorFlow team. When filing the bug, set the verbosity to 10 (on Linux, `export AUTOGRAPH_VERBOSITY=10`) and attach the full output.\n",
      "Cause: 'arguments' object has no attribute 'posonlyargs'\n",
      "To silence this warning, decorate the function with @tf.autograph.experimental.do_not_convert\n",
      "WARNING: AutoGraph could not transform <function Model.make_predict_function.<locals>.predict_function at 0x000001C185E5ACA8> and will run it as-is.\n",
      "Please report this to the TensorFlow team. When filing the bug, set the verbosity to 10 (on Linux, `export AUTOGRAPH_VERBOSITY=10`) and attach the full output.\n",
      "Cause: 'arguments' object has no attribute 'posonlyargs'\n",
      "To silence this warning, decorate the function with @tf.autograph.experimental.do_not_convert\n",
      "1/1 [==============================] - 0s 422ms/step\n"
     ]
    },
    {
     "name": "stderr",
     "output_type": "stream",
     "text": [
      "127.0.0.1 - - [17/Nov/2022 17:08:22] \"POST /predict HTTP/1.1\" 200 -\n",
      "127.0.0.1 - - [17/Nov/2022 17:08:22] \"GET /static/images/fertilizer.jpg HTTP/1.1\" 304 -\n",
      "127.0.0.1 - - [17/Nov/2022 17:09:56] \"GET /prediction.html HTTP/1.1\" 200 -\n",
      "127.0.0.1 - - [17/Nov/2022 17:09:56] \"GET /static/images/sectionImage.png HTTP/1.1\" 304 -\n"
     ]
    },
    {
     "name": "stdout",
     "output_type": "stream",
     "text": [
      "Vegetable\n",
      "1/1 [==============================] - 0s 68ms/step\n"
     ]
    },
    {
     "name": "stderr",
     "output_type": "stream",
     "text": [
      "127.0.0.1 - - [17/Nov/2022 17:10:12] \"POST /predict HTTP/1.1\" 200 -\n",
      "127.0.0.1 - - [17/Nov/2022 17:10:12] \"GET /static/images/fertilizer.jpg HTTP/1.1\" 304 -\n",
      "127.0.0.1 - - [17/Nov/2022 17:11:20] \"GET /prediction.html HTTP/1.1\" 200 -\n",
      "127.0.0.1 - - [17/Nov/2022 17:11:20] \"GET /static/images/sectionImage.png HTTP/1.1\" 304 -\n"
     ]
    },
    {
     "name": "stdout",
     "output_type": "stream",
     "text": [
      "Vegetable\n",
      "1/1 [==============================] - 0s 75ms/step\n"
     ]
    },
    {
     "name": "stderr",
     "output_type": "stream",
     "text": [
      "127.0.0.1 - - [17/Nov/2022 17:11:43] \"POST /predict HTTP/1.1\" 200 -\n",
      "127.0.0.1 - - [17/Nov/2022 17:11:43] \"GET /static/images/fertilizer.jpg HTTP/1.1\" 304 -\n",
      "127.0.0.1 - - [17/Nov/2022 17:12:29] \"GET /prediction.html HTTP/1.1\" 200 -\n",
      "127.0.0.1 - - [17/Nov/2022 17:12:29] \"GET /static/images/sectionImage.png HTTP/1.1\" 304 -\n"
     ]
    },
    {
     "name": "stdout",
     "output_type": "stream",
     "text": [
      "Vegetable\n",
      "1/1 [==============================] - 0s 83ms/step\n"
     ]
    },
    {
     "name": "stderr",
     "output_type": "stream",
     "text": [
      "127.0.0.1 - - [17/Nov/2022 17:12:51] \"POST /predict HTTP/1.1\" 200 -\n",
      "127.0.0.1 - - [17/Nov/2022 17:12:51] \"GET /static/images/fertilizer.jpg HTTP/1.1\" 304 -\n",
      "127.0.0.1 - - [17/Nov/2022 17:12:54] \"GET /prediction.html HTTP/1.1\" 200 -\n",
      "127.0.0.1 - - [17/Nov/2022 17:12:54] \"GET /static/images/sectionImage.png HTTP/1.1\" 304 -\n"
     ]
    },
    {
     "name": "stdout",
     "output_type": "stream",
     "text": [
      "Vegetable\n",
      "1/1 [==============================] - 0s 76ms/step\n"
     ]
    },
    {
     "name": "stderr",
     "output_type": "stream",
     "text": [
      "127.0.0.1 - - [17/Nov/2022 17:13:21] \"POST /predict HTTP/1.1\" 200 -\n",
      "127.0.0.1 - - [17/Nov/2022 17:13:21] \"GET /static/images/fertilizer.jpg HTTP/1.1\" 304 -\n",
      "127.0.0.1 - - [17/Nov/2022 17:13:34] \"GET /prediction.html HTTP/1.1\" 200 -\n",
      "127.0.0.1 - - [17/Nov/2022 17:13:34] \"GET /static/images/sectionImage.png HTTP/1.1\" 304 -\n"
     ]
    },
    {
     "name": "stdout",
     "output_type": "stream",
     "text": [
      "Vegetable\n",
      "1/1 [==============================] - 0s 149ms/step\n"
     ]
    },
    {
     "name": "stderr",
     "output_type": "stream",
     "text": [
      "127.0.0.1 - - [17/Nov/2022 17:13:53] \"POST /predict HTTP/1.1\" 200 -\n",
      "127.0.0.1 - - [17/Nov/2022 17:13:53] \"GET /static/images/fertilizer.jpg HTTP/1.1\" 304 -\n"
     ]
    }
   ],
   "source": [
    "if __name__ ==  \"__main__\":\n",
    "    app.run(debug=False)  "
   ]
  },
  {
   "cell_type": "code",
   "execution_count": null,
   "id": "f626c6a9",
   "metadata": {},
   "outputs": [],
   "source": []
  }
 ],
 "metadata": {
  "kernelspec": {
   "display_name": "Python 3",
   "language": "python",
   "name": "python3"
  },
  "language_info": {
   "codemirror_mode": {
    "name": "ipython",
    "version": 3
   },
   "file_extension": ".py",
   "mimetype": "text/x-python",
   "name": "python",
   "nbconvert_exporter": "python",
   "pygments_lexer": "ipython3",
   "version": "3.7.4"
  }
 },
 "nbformat": 4,
 "nbformat_minor": 5
}
